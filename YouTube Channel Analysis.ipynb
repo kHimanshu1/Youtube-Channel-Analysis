{
 "cells": [
  {
   "cell_type": "markdown",
   "id": "c7fca3d0",
   "metadata": {},
   "source": [
    "# VaatiVidya Channel Analysis"
   ]
  },
  {
   "cell_type": "markdown",
   "id": "1a84bdfc",
   "metadata": {},
   "source": [
    "![alt text](banner.png \"Title\")"
   ]
  },
  {
   "cell_type": "markdown",
   "id": "1d98f67f",
   "metadata": {},
   "source": [
    "VaatiVidya is a gaming youtuber who makes videos on games developed by Fromsoftware, a videogame development studio known to develop challenging AAA videogames, their IPs such as Darksouls and Bloodborn are considered some of the best games ever developed, winning them various gaming awards. Fromsoft has a tendency to hide major section of their games' story from the player and expects them to interprete the story in their own way by giving hints to the story by means of item decriptions and environmental story telling. VaatiVidya finds these hidden details and makes videos explaining hidden details and lore of the game."
   ]
  },
  {
   "cell_type": "markdown",
   "id": "4e3c6e87",
   "metadata": {},
   "source": [
    "### Data Collection using YouTube Data API"
   ]
  },
  {
   "cell_type": "markdown",
   "id": "c3785e49",
   "metadata": {},
   "source": [
    "We will be using YouTube Data API to extract relevent of every video of the channel like Video title, video id, likes and\n",
    "dislikes on each video"
   ]
  },
  {
   "cell_type": "code",
   "execution_count": 1,
   "id": "833708c7",
   "metadata": {},
   "outputs": [],
   "source": [
    "#importing necessary libraries\n",
    "import pandas as pd\n",
    "import numpy as np\n",
    "import matplotlib.pyplot as plt\n",
    "import seaborn as sns\n",
    "from apiclient.discovery import build\n",
    "import matplotlib.patches as mpatches\n",
    "from matplotlib.image import imread\n",
    "from matplotlib.offsetbox import AnnotationBbox , OffsetImage"
   ]
  },
  {
   "cell_type": "markdown",
   "id": "b0b00900",
   "metadata": {},
   "source": [
    "### Getting Your API Key"
   ]
  },
  {
   "cell_type": "markdown",
   "id": "38519a08",
   "metadata": {},
   "source": [
    "We need to generate an API key before we can use the Data API. The key can be generated using this link:https://console.cloud.google.com/"
   ]
  },
  {
   "cell_type": "code",
   "execution_count": 2,
   "id": "87de03a9",
   "metadata": {},
   "outputs": [],
   "source": [
    "key=                                          # paste your API key here in quotes\n",
    "channel_id='UCe0DNp0mKMqrYVaTundyr9w'         # unique channel if for VaatiVidya channel"
   ]
  },
  {
   "cell_type": "markdown",
   "id": "d3e375a4",
   "metadata": {},
   "source": [
    "### Getting the Data\n",
    "We will now use the API to extract data from the channel"
   ]
  },
  {
   "cell_type": "code",
   "execution_count": 3,
   "id": "558186e5",
   "metadata": {},
   "outputs": [],
   "source": [
    "youtube=build('youtube','v3',developerKey=key)"
   ]
  },
  {
   "cell_type": "markdown",
   "id": "7ae40936",
   "metadata": {},
   "source": [
    "Every youtube channel has a default playlist called \"Uploads\" where every video of channel is present. We will use this playlist to extract the details of every video like Video title, description and video id. The response of the API is in JSON format from which data can be extracted since its format is very similar to a python dictonary"
   ]
  },
  {
   "cell_type": "code",
   "execution_count": 4,
   "id": "94b21887",
   "metadata": {},
   "outputs": [],
   "source": [
    "# Function to get video details into a list\n",
    "def videodetails(channel_id):\n",
    "    res=youtube.channels().list(part='contentDetails',id=channel_id).execute()\n",
    "    pl_id=res['items'][0]['contentDetails']['relatedPlaylists']['uploads']\n",
    "    np_token=None\n",
    "    videos=[]\n",
    "    while 1 :\n",
    "        res_videos=youtube.playlistItems().list(part='snippet',playlistId=pl_id,pageToken=np_token,maxResults=50).execute()\n",
    "        videos+=res_videos['items']\n",
    "        \n",
    "        # use try except, since last item will not contain pageToken key\n",
    "        try:\n",
    "            np_token=res_videos['nextPageToken']\n",
    "        except KeyError:\n",
    "            np_token=None\n",
    "        if np_token==None:\n",
    "            break\n",
    "        \n",
    "    return videos\n",
    "    "
   ]
  },
  {
   "cell_type": "code",
   "execution_count": 5,
   "id": "f104c0c0",
   "metadata": {},
   "outputs": [],
   "source": [
    "videos=videodetails(channel_id)"
   ]
  },
  {
   "cell_type": "markdown",
   "id": "58a901cf",
   "metadata": {},
   "source": [
    "Below is shown how to access information of videos, including video title, description, video id and thumbnails , 0 index will give details of most recent upload."
   ]
  },
  {
   "cell_type": "code",
   "execution_count": 6,
   "id": "db66a0c4",
   "metadata": {
    "scrolled": false
   },
   "outputs": [
    {
     "data": {
      "text/plain": [
       "{'kind': 'youtube#playlistItem',\n",
       " 'etag': 'br8tlb46otpTJ9FLwX-6Me4pAFo',\n",
       " 'id': 'VVVlMEROcDBtS01xcllWYVR1bmR5cjl3LjdCb25ZZjNlNUs0',\n",
       " 'snippet': {'publishedAt': '2021-12-02T18:28:22Z',\n",
       "  'channelId': 'UCe0DNp0mKMqrYVaTundyr9w',\n",
       "  'title': 'A Desperate Final Playthrough of Elden Ring',\n",
       "  'description': \"Watch the previous Playthrough episode: https://youtu.be/R9DWTt37khU\\n►Early access to the ER lore content will likely go up here in coming weeks: https://www.patreon.com/vaatividya\\n►Clothing Merch at https://vaatividya.com/\\n►My Displate Metal Prints at https://bit.ly/3kDjpF4\\n\\nTIMESTAMPS\\n00:00 Limgrave\\n04:21 Limgrave Tunnels\\n10:10 Gateside Ruins\\n15:21 Dissenter's Cave\\n17:48 Exploring Limgrave\\n23:16 Margit Attempts\\n\\nKINDLE THE CHANNEL [become a patron]\\n►http://www.patreon.com/vaatividya\\n\\nSPECIAL THANKS TO\\n►/u/SaidTheEmu for the meme at the start of the video, I laughed - https://www.reddit.com/r/Eldenring/comments/qvdd61/need_to_hold_us_over_until_february/\\n►/u/why1758 for sharing some details from the Famitsu interview with Kitao - https://www.reddit.com/r/Eldenring/comments/qvn1vu/some_details_from_recent_famitsu_stream_with_kitao/\\n\\nPLAYLISTS\\n►My Best Videos: http://bit.ly/2oMp66a\\n►Elden Ring News: https://bit.ly/2ZkDV2d\\n►Sekiro Lore: https://bit.ly/2KGEzD1\\n►Sekiro Secrets: https://bit.ly/2IsObhW\\n►Dark Souls 3 Lore: http://bit.ly/2n0bU13\\n►Dark Souls 3 News: http://bit.ly/1NQbgbW\\n►Bloodborne Lore: http://bit.ly/1X9doOQ\\n►Demon's Souls Lore: http://bit.ly/16mIF86\\n►Dark Souls Remastered Lore: http://bit.ly/13x6nNs\\n►Dark Souls 2 Lore: http://bit.ly/1dedWjI\\n►Souls-like: http://bit.ly/1xCPDnu\\n\\n\\nSOCIAL\\n►Follow me on Twitter: https://twitter.com/VaatiVidya\\n►Follow me on Tumblr: http://vaatividya.tumblr.com/\\n►Follow me on Twitch.tv: http://www.twitch.tv/vaatividya\\n►Follow me on Facebook: https://www.facebook.com/Vaatividya\\n►Follow me on Patreon: http://www.patreon.com/vaatividya\\n►Join me on Discord: http://discord.gg/vaatividya\\n\\n\\nPATRONS\\n►I'd like to give sincere thanks to all my patrons - your contributions have changed the course of my life, allowing me to put more emphasis on video production in the future.\\n\\n\\n►Special thanks to Soul of Cinder-tier Patrons: Paul, Zachary, Will, Abysmal, Unimpressed Boi, Hastur, TAC, Matthew Coleman, James, Aj, GoldenSunX, Yousif, Sean, Anthony, Cody, ndr.alng, Meistermuall, Armand, Saud, Liam, Aj, Heather, Dread, & Ricky.\",\n",
       "  'thumbnails': {'default': {'url': 'https://i.ytimg.com/vi/7BonYf3e5K4/default.jpg',\n",
       "    'width': 120,\n",
       "    'height': 90},\n",
       "   'medium': {'url': 'https://i.ytimg.com/vi/7BonYf3e5K4/mqdefault.jpg',\n",
       "    'width': 320,\n",
       "    'height': 180},\n",
       "   'high': {'url': 'https://i.ytimg.com/vi/7BonYf3e5K4/hqdefault.jpg',\n",
       "    'width': 480,\n",
       "    'height': 360},\n",
       "   'standard': {'url': 'https://i.ytimg.com/vi/7BonYf3e5K4/sddefault.jpg',\n",
       "    'width': 640,\n",
       "    'height': 480},\n",
       "   'maxres': {'url': 'https://i.ytimg.com/vi/7BonYf3e5K4/maxresdefault.jpg',\n",
       "    'width': 1280,\n",
       "    'height': 720}},\n",
       "  'channelTitle': 'VaatiVidya',\n",
       "  'playlistId': 'UUe0DNp0mKMqrYVaTundyr9w',\n",
       "  'position': 0,\n",
       "  'resourceId': {'kind': 'youtube#video', 'videoId': '7BonYf3e5K4'},\n",
       "  'videoOwnerChannelTitle': 'VaatiVidya',\n",
       "  'videoOwnerChannelId': 'UCe0DNp0mKMqrYVaTundyr9w'}}"
      ]
     },
     "execution_count": 6,
     "metadata": {},
     "output_type": "execute_result"
    }
   ],
   "source": [
    "videos[0]"
   ]
  },
  {
   "cell_type": "code",
   "execution_count": 7,
   "id": "dbc97d09",
   "metadata": {},
   "outputs": [],
   "source": [
    "# Creating dataframe to store title and video id\n",
    "\n",
    "df=pd.DataFrame(columns=['Title','Video_id'])"
   ]
  },
  {
   "cell_type": "code",
   "execution_count": 8,
   "id": "6c6c706b",
   "metadata": {},
   "outputs": [
    {
     "data": {
      "text/html": [
       "<div>\n",
       "<style scoped>\n",
       "    .dataframe tbody tr th:only-of-type {\n",
       "        vertical-align: middle;\n",
       "    }\n",
       "\n",
       "    .dataframe tbody tr th {\n",
       "        vertical-align: top;\n",
       "    }\n",
       "\n",
       "    .dataframe thead th {\n",
       "        text-align: right;\n",
       "    }\n",
       "</style>\n",
       "<table border=\"1\" class=\"dataframe\">\n",
       "  <thead>\n",
       "    <tr style=\"text-align: right;\">\n",
       "      <th></th>\n",
       "      <th>Title</th>\n",
       "      <th>Video_id</th>\n",
       "    </tr>\n",
       "  </thead>\n",
       "  <tbody>\n",
       "  </tbody>\n",
       "</table>\n",
       "</div>"
      ],
      "text/plain": [
       "Empty DataFrame\n",
       "Columns: [Title, Video_id]\n",
       "Index: []"
      ]
     },
     "execution_count": 8,
     "metadata": {},
     "output_type": "execute_result"
    }
   ],
   "source": [
    "df"
   ]
  },
  {
   "cell_type": "code",
   "execution_count": 9,
   "id": "960117de",
   "metadata": {},
   "outputs": [],
   "source": [
    "title=[]\n",
    "ids=[]\n",
    "for video in range(0,len(videos)):\n",
    "    title.append(videos[video]['snippet']['title'])\n",
    "    ids.append(videos[video]['snippet']['resourceId']['videoId'])\n",
    "    "
   ]
  },
  {
   "cell_type": "code",
   "execution_count": 10,
   "id": "b5a13486",
   "metadata": {},
   "outputs": [],
   "source": [
    "df['Title']=title\n",
    "df['Video_id']=ids"
   ]
  },
  {
   "cell_type": "code",
   "execution_count": 11,
   "id": "b15d59f0",
   "metadata": {},
   "outputs": [],
   "source": [
    "#Using video id from dataframe to extract more information such as like, dislike, views, comment counts\n",
    "like=[]\n",
    "dislike=[]\n",
    "view_count=[]\n",
    "comment_count=[]\n",
    "for i in range (0,len(df)):\n",
    "    res=youtube.videos().list(part='statistics',id=df['Video_id'][i]).execute()\n",
    "    like.append(res['items'][0]['statistics']['likeCount'])\n",
    "    dislike.append(res['items'][0]['statistics']['dislikeCount'])\n",
    "    view_count.append(res['items'][0]['statistics']['viewCount'])\n",
    "    comment_count.append(res['items'][0]['statistics']['commentCount'])\n",
    "df['like']=like\n",
    "df['dislike']=dislike\n",
    "df['views']=view_count\n",
    "df['comments']=comment_count"
   ]
  },
  {
   "cell_type": "code",
   "execution_count": 12,
   "id": "3373fdf8",
   "metadata": {},
   "outputs": [
    {
     "data": {
      "text/html": [
       "<div>\n",
       "<style scoped>\n",
       "    .dataframe tbody tr th:only-of-type {\n",
       "        vertical-align: middle;\n",
       "    }\n",
       "\n",
       "    .dataframe tbody tr th {\n",
       "        vertical-align: top;\n",
       "    }\n",
       "\n",
       "    .dataframe thead th {\n",
       "        text-align: right;\n",
       "    }\n",
       "</style>\n",
       "<table border=\"1\" class=\"dataframe\">\n",
       "  <thead>\n",
       "    <tr style=\"text-align: right;\">\n",
       "      <th></th>\n",
       "      <th>Title</th>\n",
       "      <th>Video_id</th>\n",
       "      <th>like</th>\n",
       "      <th>dislike</th>\n",
       "      <th>views</th>\n",
       "      <th>comments</th>\n",
       "    </tr>\n",
       "  </thead>\n",
       "  <tbody>\n",
       "    <tr>\n",
       "      <th>0</th>\n",
       "      <td>A Desperate Final Playthrough of Elden Ring</td>\n",
       "      <td>7BonYf3e5K4</td>\n",
       "      <td>33568</td>\n",
       "      <td>518</td>\n",
       "      <td>773049</td>\n",
       "      <td>2163</td>\n",
       "    </tr>\n",
       "    <tr>\n",
       "      <th>1</th>\n",
       "      <td>10 Things You Should Know Before Playing Elden...</td>\n",
       "      <td>KD8I0ZvuR9o</td>\n",
       "      <td>35102</td>\n",
       "      <td>491</td>\n",
       "      <td>760957</td>\n",
       "      <td>2111</td>\n",
       "    </tr>\n",
       "    <tr>\n",
       "      <th>2</th>\n",
       "      <td>The Best Parts of Elden Ring's Network Test!</td>\n",
       "      <td>Z-IK5Q_nYF0</td>\n",
       "      <td>31199</td>\n",
       "      <td>347</td>\n",
       "      <td>763354</td>\n",
       "      <td>2067</td>\n",
       "    </tr>\n",
       "    <tr>\n",
       "      <th>3</th>\n",
       "      <td>A Magical First Playthrough of Elden Ring</td>\n",
       "      <td>R9DWTt37khU</td>\n",
       "      <td>103214</td>\n",
       "      <td>1767</td>\n",
       "      <td>3047577</td>\n",
       "      <td>10132</td>\n",
       "    </tr>\n",
       "    <tr>\n",
       "      <th>4</th>\n",
       "      <td>Revealing the Glorious World of ELDEN RING</td>\n",
       "      <td>fciP89-aDqE</td>\n",
       "      <td>46538</td>\n",
       "      <td>729</td>\n",
       "      <td>825484</td>\n",
       "      <td>4279</td>\n",
       "    </tr>\n",
       "    <tr>\n",
       "      <th>...</th>\n",
       "      <td>...</td>\n",
       "      <td>...</td>\n",
       "      <td>...</td>\n",
       "      <td>...</td>\n",
       "      <td>...</td>\n",
       "      <td>...</td>\n",
       "    </tr>\n",
       "    <tr>\n",
       "      <th>293</th>\n",
       "      <td>Dark Souls Story ► Siegmeyer of Catarina</td>\n",
       "      <td>cdliu3JOSYQ</td>\n",
       "      <td>58616</td>\n",
       "      <td>393</td>\n",
       "      <td>2443072</td>\n",
       "      <td>4182</td>\n",
       "    </tr>\n",
       "    <tr>\n",
       "      <th>294</th>\n",
       "      <td>Dark Souls Story ► The Sisters of Chaos</td>\n",
       "      <td>eRbZVx6SuOE</td>\n",
       "      <td>30875</td>\n",
       "      <td>243</td>\n",
       "      <td>1798096</td>\n",
       "      <td>2707</td>\n",
       "    </tr>\n",
       "    <tr>\n",
       "      <th>295</th>\n",
       "      <td>Knight Artorias - Cut Dialogue</td>\n",
       "      <td>upzLAJhtnvk</td>\n",
       "      <td>24631</td>\n",
       "      <td>97</td>\n",
       "      <td>998495</td>\n",
       "      <td>2691</td>\n",
       "    </tr>\n",
       "    <tr>\n",
       "      <th>296</th>\n",
       "      <td>Dark Souls Story ► The Legend of Artorias the ...</td>\n",
       "      <td>6d82kJlb5Us</td>\n",
       "      <td>55887</td>\n",
       "      <td>351</td>\n",
       "      <td>2901330</td>\n",
       "      <td>5139</td>\n",
       "    </tr>\n",
       "    <tr>\n",
       "      <th>297</th>\n",
       "      <td>Dark Souls - 60fps Mod - How to Install</td>\n",
       "      <td>AxrPy0TiNjU</td>\n",
       "      <td>1310</td>\n",
       "      <td>237</td>\n",
       "      <td>322027</td>\n",
       "      <td>656</td>\n",
       "    </tr>\n",
       "  </tbody>\n",
       "</table>\n",
       "<p>298 rows × 6 columns</p>\n",
       "</div>"
      ],
      "text/plain": [
       "                                                 Title     Video_id    like  \\\n",
       "0          A Desperate Final Playthrough of Elden Ring  7BonYf3e5K4   33568   \n",
       "1    10 Things You Should Know Before Playing Elden...  KD8I0ZvuR9o   35102   \n",
       "2         The Best Parts of Elden Ring's Network Test!  Z-IK5Q_nYF0   31199   \n",
       "3            A Magical First Playthrough of Elden Ring  R9DWTt37khU  103214   \n",
       "4           Revealing the Glorious World of ELDEN RING  fciP89-aDqE   46538   \n",
       "..                                                 ...          ...     ...   \n",
       "293           Dark Souls Story ► Siegmeyer of Catarina  cdliu3JOSYQ   58616   \n",
       "294            Dark Souls Story ► The Sisters of Chaos  eRbZVx6SuOE   30875   \n",
       "295                     Knight Artorias - Cut Dialogue  upzLAJhtnvk   24631   \n",
       "296  Dark Souls Story ► The Legend of Artorias the ...  6d82kJlb5Us   55887   \n",
       "297            Dark Souls - 60fps Mod - How to Install  AxrPy0TiNjU    1310   \n",
       "\n",
       "    dislike    views comments  \n",
       "0       518   773049     2163  \n",
       "1       491   760957     2111  \n",
       "2       347   763354     2067  \n",
       "3      1767  3047577    10132  \n",
       "4       729   825484     4279  \n",
       "..      ...      ...      ...  \n",
       "293     393  2443072     4182  \n",
       "294     243  1798096     2707  \n",
       "295      97   998495     2691  \n",
       "296     351  2901330     5139  \n",
       "297     237   322027      656  \n",
       "\n",
       "[298 rows x 6 columns]"
      ]
     },
     "execution_count": 12,
     "metadata": {},
     "output_type": "execute_result"
    }
   ],
   "source": [
    "df"
   ]
  },
  {
   "cell_type": "markdown",
   "id": "a4afdb95",
   "metadata": {},
   "source": [
    "### Extracting Video Game title from video title"
   ]
  },
  {
   "cell_type": "code",
   "execution_count": 13,
   "id": "e89272d1",
   "metadata": {},
   "outputs": [],
   "source": [
    " cleaned_title=[]\n",
    "for i in range(0,len(df)):\n",
    "     cleaned_title.append(\"\".join(filter(str.isalnum,df['Title'][i].lower())))"
   ]
  },
  {
   "cell_type": "code",
   "execution_count": 14,
   "id": "e67f833a",
   "metadata": {},
   "outputs": [],
   "source": [
    "df['cleaned title']=cleaned_title"
   ]
  },
  {
   "cell_type": "code",
   "execution_count": 15,
   "id": "b79285c6",
   "metadata": {
    "scrolled": true
   },
   "outputs": [
    {
     "data": {
      "text/html": [
       "<div>\n",
       "<style scoped>\n",
       "    .dataframe tbody tr th:only-of-type {\n",
       "        vertical-align: middle;\n",
       "    }\n",
       "\n",
       "    .dataframe tbody tr th {\n",
       "        vertical-align: top;\n",
       "    }\n",
       "\n",
       "    .dataframe thead th {\n",
       "        text-align: right;\n",
       "    }\n",
       "</style>\n",
       "<table border=\"1\" class=\"dataframe\">\n",
       "  <thead>\n",
       "    <tr style=\"text-align: right;\">\n",
       "      <th></th>\n",
       "      <th>Title</th>\n",
       "      <th>Video_id</th>\n",
       "      <th>like</th>\n",
       "      <th>dislike</th>\n",
       "      <th>views</th>\n",
       "      <th>comments</th>\n",
       "      <th>cleaned title</th>\n",
       "    </tr>\n",
       "  </thead>\n",
       "  <tbody>\n",
       "    <tr>\n",
       "      <th>0</th>\n",
       "      <td>A Desperate Final Playthrough of Elden Ring</td>\n",
       "      <td>7BonYf3e5K4</td>\n",
       "      <td>33568</td>\n",
       "      <td>518</td>\n",
       "      <td>773049</td>\n",
       "      <td>2163</td>\n",
       "      <td>adesperatefinalplaythroughofeldenring</td>\n",
       "    </tr>\n",
       "    <tr>\n",
       "      <th>1</th>\n",
       "      <td>10 Things You Should Know Before Playing Elden...</td>\n",
       "      <td>KD8I0ZvuR9o</td>\n",
       "      <td>35102</td>\n",
       "      <td>491</td>\n",
       "      <td>760957</td>\n",
       "      <td>2111</td>\n",
       "      <td>10thingsyoushouldknowbeforeplayingeldenring</td>\n",
       "    </tr>\n",
       "    <tr>\n",
       "      <th>2</th>\n",
       "      <td>The Best Parts of Elden Ring's Network Test!</td>\n",
       "      <td>Z-IK5Q_nYF0</td>\n",
       "      <td>31199</td>\n",
       "      <td>347</td>\n",
       "      <td>763354</td>\n",
       "      <td>2067</td>\n",
       "      <td>thebestpartsofeldenringsnetworktest</td>\n",
       "    </tr>\n",
       "    <tr>\n",
       "      <th>3</th>\n",
       "      <td>A Magical First Playthrough of Elden Ring</td>\n",
       "      <td>R9DWTt37khU</td>\n",
       "      <td>103214</td>\n",
       "      <td>1767</td>\n",
       "      <td>3047577</td>\n",
       "      <td>10132</td>\n",
       "      <td>amagicalfirstplaythroughofeldenring</td>\n",
       "    </tr>\n",
       "    <tr>\n",
       "      <th>4</th>\n",
       "      <td>Revealing the Glorious World of ELDEN RING</td>\n",
       "      <td>fciP89-aDqE</td>\n",
       "      <td>46538</td>\n",
       "      <td>729</td>\n",
       "      <td>825484</td>\n",
       "      <td>4279</td>\n",
       "      <td>revealingthegloriousworldofeldenring</td>\n",
       "    </tr>\n",
       "  </tbody>\n",
       "</table>\n",
       "</div>"
      ],
      "text/plain": [
       "                                               Title     Video_id    like  \\\n",
       "0        A Desperate Final Playthrough of Elden Ring  7BonYf3e5K4   33568   \n",
       "1  10 Things You Should Know Before Playing Elden...  KD8I0ZvuR9o   35102   \n",
       "2       The Best Parts of Elden Ring's Network Test!  Z-IK5Q_nYF0   31199   \n",
       "3          A Magical First Playthrough of Elden Ring  R9DWTt37khU  103214   \n",
       "4         Revealing the Glorious World of ELDEN RING  fciP89-aDqE   46538   \n",
       "\n",
       "  dislike    views comments                                cleaned title  \n",
       "0     518   773049     2163        adesperatefinalplaythroughofeldenring  \n",
       "1     491   760957     2111  10thingsyoushouldknowbeforeplayingeldenring  \n",
       "2     347   763354     2067          thebestpartsofeldenringsnetworktest  \n",
       "3    1767  3047577    10132          amagicalfirstplaythroughofeldenring  \n",
       "4     729   825484     4279         revealingthegloriousworldofeldenring  "
      ]
     },
     "execution_count": 15,
     "metadata": {},
     "output_type": "execute_result"
    }
   ],
   "source": [
    "df.head()"
   ]
  },
  {
   "cell_type": "code",
   "execution_count": 16,
   "id": "96f62d86",
   "metadata": {},
   "outputs": [],
   "source": [
    "df['like']=df['like'].astype(int)\n",
    "df['dislike']=df['dislike'].astype(int)\n",
    "df['comments']=df['comments'].astype(int)\n",
    "df['views']=df['views'].astype(int)"
   ]
  },
  {
   "cell_type": "markdown",
   "id": "965ab3da",
   "metadata": {},
   "source": [
    "### Creating a feature that will classify every video with their respective games:"
   ]
  },
  {
   "cell_type": "code",
   "execution_count": 17,
   "id": "e996f26a",
   "metadata": {},
   "outputs": [],
   "source": [
    "Game=[]\n",
    "for i in range (0,len(df)):\n",
    "    if 'eldenring' in df['cleaned title'][i]:\n",
    "        Game.append('Elden Ring')\n",
    "    elif 'darksouls3' in df['cleaned title'][i] or'darksoul3' in df['cleaned title'][i] or 'darksoulsiii' in df['cleaned title'][i] or'darksouliii' in df['cleaned title'][i] or 'ds3' in df['cleaned title'][i]:\n",
    "        Game.append('Dark Souls 3')\n",
    "    elif 'darksouls2' in df['cleaned title'][i] or'darksoul2' in df['cleaned title'][i] or 'darksoulsii' in df['cleaned title'][i] or'darksoulii' in df['cleaned title'][i] or 'ds2' in df['cleaned title'][i]:\n",
    "        Game.append('Dark Souls 2')\n",
    "    elif 'darksouls' in df['cleaned title'][i] or'darksoul' in df['cleaned title'][i] or 'darksoulsremastered' in df['cleaned title'][i] or'darksoulremastered' in df['cleaned title'][i] :\n",
    "        Game.append('Dark Souls')\n",
    "    elif 'demonssoul' in df['cleaned title'][i] or 'demonsoul' in df['cleaned title']:\n",
    "        Game.append(\"Demon's Soul\")\n",
    "    elif 'bloodborne' in df['cleaned title'][i]:\n",
    "        Game.append('Bloodborne')\n",
    "    elif 'sekiro' in df['cleaned title'][i]:\n",
    "        Game.append('Sekiro')\n",
    "    else :\n",
    "        Game.append('others')\n"
   ]
  },
  {
   "cell_type": "code",
   "execution_count": 18,
   "id": "7adfff8b",
   "metadata": {},
   "outputs": [
    {
     "data": {
      "text/html": [
       "<div>\n",
       "<style scoped>\n",
       "    .dataframe tbody tr th:only-of-type {\n",
       "        vertical-align: middle;\n",
       "    }\n",
       "\n",
       "    .dataframe tbody tr th {\n",
       "        vertical-align: top;\n",
       "    }\n",
       "\n",
       "    .dataframe thead th {\n",
       "        text-align: right;\n",
       "    }\n",
       "</style>\n",
       "<table border=\"1\" class=\"dataframe\">\n",
       "  <thead>\n",
       "    <tr style=\"text-align: right;\">\n",
       "      <th></th>\n",
       "      <th>Title</th>\n",
       "      <th>Video_id</th>\n",
       "      <th>like</th>\n",
       "      <th>dislike</th>\n",
       "      <th>views</th>\n",
       "      <th>comments</th>\n",
       "      <th>cleaned title</th>\n",
       "      <th>Game</th>\n",
       "    </tr>\n",
       "  </thead>\n",
       "  <tbody>\n",
       "    <tr>\n",
       "      <th>0</th>\n",
       "      <td>A Desperate Final Playthrough of Elden Ring</td>\n",
       "      <td>7BonYf3e5K4</td>\n",
       "      <td>33568</td>\n",
       "      <td>518</td>\n",
       "      <td>773049</td>\n",
       "      <td>2163</td>\n",
       "      <td>adesperatefinalplaythroughofeldenring</td>\n",
       "      <td>Elden Ring</td>\n",
       "    </tr>\n",
       "    <tr>\n",
       "      <th>1</th>\n",
       "      <td>10 Things You Should Know Before Playing Elden...</td>\n",
       "      <td>KD8I0ZvuR9o</td>\n",
       "      <td>35102</td>\n",
       "      <td>491</td>\n",
       "      <td>760957</td>\n",
       "      <td>2111</td>\n",
       "      <td>10thingsyoushouldknowbeforeplayingeldenring</td>\n",
       "      <td>Elden Ring</td>\n",
       "    </tr>\n",
       "    <tr>\n",
       "      <th>2</th>\n",
       "      <td>The Best Parts of Elden Ring's Network Test!</td>\n",
       "      <td>Z-IK5Q_nYF0</td>\n",
       "      <td>31199</td>\n",
       "      <td>347</td>\n",
       "      <td>763354</td>\n",
       "      <td>2067</td>\n",
       "      <td>thebestpartsofeldenringsnetworktest</td>\n",
       "      <td>Elden Ring</td>\n",
       "    </tr>\n",
       "    <tr>\n",
       "      <th>3</th>\n",
       "      <td>A Magical First Playthrough of Elden Ring</td>\n",
       "      <td>R9DWTt37khU</td>\n",
       "      <td>103214</td>\n",
       "      <td>1767</td>\n",
       "      <td>3047577</td>\n",
       "      <td>10132</td>\n",
       "      <td>amagicalfirstplaythroughofeldenring</td>\n",
       "      <td>Elden Ring</td>\n",
       "    </tr>\n",
       "    <tr>\n",
       "      <th>4</th>\n",
       "      <td>Revealing the Glorious World of ELDEN RING</td>\n",
       "      <td>fciP89-aDqE</td>\n",
       "      <td>46538</td>\n",
       "      <td>729</td>\n",
       "      <td>825484</td>\n",
       "      <td>4279</td>\n",
       "      <td>revealingthegloriousworldofeldenring</td>\n",
       "      <td>Elden Ring</td>\n",
       "    </tr>\n",
       "    <tr>\n",
       "      <th>...</th>\n",
       "      <td>...</td>\n",
       "      <td>...</td>\n",
       "      <td>...</td>\n",
       "      <td>...</td>\n",
       "      <td>...</td>\n",
       "      <td>...</td>\n",
       "      <td>...</td>\n",
       "      <td>...</td>\n",
       "    </tr>\n",
       "    <tr>\n",
       "      <th>293</th>\n",
       "      <td>Dark Souls Story ► Siegmeyer of Catarina</td>\n",
       "      <td>cdliu3JOSYQ</td>\n",
       "      <td>58616</td>\n",
       "      <td>393</td>\n",
       "      <td>2443072</td>\n",
       "      <td>4182</td>\n",
       "      <td>darksoulsstorysiegmeyerofcatarina</td>\n",
       "      <td>Dark Souls</td>\n",
       "    </tr>\n",
       "    <tr>\n",
       "      <th>294</th>\n",
       "      <td>Dark Souls Story ► The Sisters of Chaos</td>\n",
       "      <td>eRbZVx6SuOE</td>\n",
       "      <td>30875</td>\n",
       "      <td>243</td>\n",
       "      <td>1798096</td>\n",
       "      <td>2707</td>\n",
       "      <td>darksoulsstorythesistersofchaos</td>\n",
       "      <td>Dark Souls</td>\n",
       "    </tr>\n",
       "    <tr>\n",
       "      <th>295</th>\n",
       "      <td>Knight Artorias - Cut Dialogue</td>\n",
       "      <td>upzLAJhtnvk</td>\n",
       "      <td>24631</td>\n",
       "      <td>97</td>\n",
       "      <td>998495</td>\n",
       "      <td>2691</td>\n",
       "      <td>knightartoriascutdialogue</td>\n",
       "      <td>others</td>\n",
       "    </tr>\n",
       "    <tr>\n",
       "      <th>296</th>\n",
       "      <td>Dark Souls Story ► The Legend of Artorias the ...</td>\n",
       "      <td>6d82kJlb5Us</td>\n",
       "      <td>55887</td>\n",
       "      <td>351</td>\n",
       "      <td>2901330</td>\n",
       "      <td>5139</td>\n",
       "      <td>darksoulsstorythelegendofartoriastheabysswalker</td>\n",
       "      <td>Dark Souls</td>\n",
       "    </tr>\n",
       "    <tr>\n",
       "      <th>297</th>\n",
       "      <td>Dark Souls - 60fps Mod - How to Install</td>\n",
       "      <td>AxrPy0TiNjU</td>\n",
       "      <td>1310</td>\n",
       "      <td>237</td>\n",
       "      <td>322027</td>\n",
       "      <td>656</td>\n",
       "      <td>darksouls60fpsmodhowtoinstall</td>\n",
       "      <td>Dark Souls</td>\n",
       "    </tr>\n",
       "  </tbody>\n",
       "</table>\n",
       "<p>298 rows × 8 columns</p>\n",
       "</div>"
      ],
      "text/plain": [
       "                                                 Title     Video_id    like  \\\n",
       "0          A Desperate Final Playthrough of Elden Ring  7BonYf3e5K4   33568   \n",
       "1    10 Things You Should Know Before Playing Elden...  KD8I0ZvuR9o   35102   \n",
       "2         The Best Parts of Elden Ring's Network Test!  Z-IK5Q_nYF0   31199   \n",
       "3            A Magical First Playthrough of Elden Ring  R9DWTt37khU  103214   \n",
       "4           Revealing the Glorious World of ELDEN RING  fciP89-aDqE   46538   \n",
       "..                                                 ...          ...     ...   \n",
       "293           Dark Souls Story ► Siegmeyer of Catarina  cdliu3JOSYQ   58616   \n",
       "294            Dark Souls Story ► The Sisters of Chaos  eRbZVx6SuOE   30875   \n",
       "295                     Knight Artorias - Cut Dialogue  upzLAJhtnvk   24631   \n",
       "296  Dark Souls Story ► The Legend of Artorias the ...  6d82kJlb5Us   55887   \n",
       "297            Dark Souls - 60fps Mod - How to Install  AxrPy0TiNjU    1310   \n",
       "\n",
       "     dislike    views  comments  \\\n",
       "0        518   773049      2163   \n",
       "1        491   760957      2111   \n",
       "2        347   763354      2067   \n",
       "3       1767  3047577     10132   \n",
       "4        729   825484      4279   \n",
       "..       ...      ...       ...   \n",
       "293      393  2443072      4182   \n",
       "294      243  1798096      2707   \n",
       "295       97   998495      2691   \n",
       "296      351  2901330      5139   \n",
       "297      237   322027       656   \n",
       "\n",
       "                                       cleaned title        Game  \n",
       "0              adesperatefinalplaythroughofeldenring  Elden Ring  \n",
       "1        10thingsyoushouldknowbeforeplayingeldenring  Elden Ring  \n",
       "2                thebestpartsofeldenringsnetworktest  Elden Ring  \n",
       "3                amagicalfirstplaythroughofeldenring  Elden Ring  \n",
       "4               revealingthegloriousworldofeldenring  Elden Ring  \n",
       "..                                               ...         ...  \n",
       "293                darksoulsstorysiegmeyerofcatarina  Dark Souls  \n",
       "294                  darksoulsstorythesistersofchaos  Dark Souls  \n",
       "295                        knightartoriascutdialogue      others  \n",
       "296  darksoulsstorythelegendofartoriastheabysswalker  Dark Souls  \n",
       "297                    darksouls60fpsmodhowtoinstall  Dark Souls  \n",
       "\n",
       "[298 rows x 8 columns]"
      ]
     },
     "execution_count": 18,
     "metadata": {},
     "output_type": "execute_result"
    }
   ],
   "source": [
    "df['Game']=Game\n",
    "df"
   ]
  },
  {
   "cell_type": "code",
   "execution_count": 19,
   "id": "aae06a90",
   "metadata": {},
   "outputs": [
    {
     "data": {
      "image/png": "[encoded data removed]",
      "text/plain": [
       "<Figure size 864x432 with 1 Axes>"
      ]
     },
     "metadata": {
      "needs_background": "light"
     },
     "output_type": "display_data"
    }
   ],
   "source": [
    "f,a=plt.subplots(1,figsize=(12,6))\n",
    "x_data=df['Game'].value_counts().keys()\n",
    "y_data=df['Game'].value_counts()\n",
    "sns.barplot(x=x_data,y=y_data)\n",
    "plt.xticks(ticks=range(0,x_data.nunique()),rotation=30,fontsize=12)\n",
    "for i in range(0,x_data.nunique()):\n",
    "    plt.text(x=range(0,x_data.nunique())[i],y=y_data[i],s=y_data[i],ha='center')\n",
    "plt.ylabel('Number of videos',fontsize=14)\n",
    "plt.show()\n"
   ]
  },
  {
   "cell_type": "markdown",
   "id": "d8e11c9b",
   "metadata": {},
   "source": [
    "Above chart shows number of videos uploaded per game. Very low numbers of videos for Elden Ring can is due to fact that the game has still to release and not much information about story is known"
   ]
  },
  {
   "cell_type": "code",
   "execution_count": 20,
   "id": "17f99fcd",
   "metadata": {},
   "outputs": [
    {
     "data": {
      "image/png": "[encoded data removed]",
      "text/plain": [
       "<Figure size 504x360 with 1 Axes>"
      ]
     },
     "metadata": {},
     "output_type": "display_data"
    }
   ],
   "source": [
    "f,a=plt.subplots(1,figsize=(7,5))\n",
    "plt.pie(x=y_data,labels=x_data,autopct='%.1f%%',pctdistance=0.7)\n",
    "circle=plt.Circle(xy=(0,0),radius=0.5,fc='w')\n",
    "plt.gca().add_artist(circle)\n",
    "plt.text(x=0,y=0,s='Video\\nTopic',ha='center',va='center',fontsize=15)\n",
    "plt.show()"
   ]
  },
  {
   "cell_type": "code",
   "execution_count": 21,
   "id": "9dd714e3",
   "metadata": {},
   "outputs": [],
   "source": [
    "#channel statistics\n",
    "total_views=df['views'].sum()\n",
    "total_comments=df['comments'].sum()\n",
    "total_ld_ratio=df['like'].sum()/df['dislike'].sum()\n"
   ]
  },
  {
   "cell_type": "code",
   "execution_count": 22,
   "id": "74f09d95",
   "metadata": {},
   "outputs": [
    {
     "data": {
      "text/plain": [
       "(65.78482977881141, 385252209, 760666)"
      ]
     },
     "execution_count": 22,
     "metadata": {},
     "output_type": "execute_result"
    }
   ],
   "source": [
    "total_ld_ratio,total_views,total_comments"
   ]
  },
  {
   "cell_type": "markdown",
   "id": "afcfa346",
   "metadata": {},
   "source": [
    "### Top N number of Videos according to total views"
   ]
  },
  {
   "cell_type": "code",
   "execution_count": 23,
   "id": "78af8e6c",
   "metadata": {},
   "outputs": [],
   "source": [
    "# Set N to the number of videos\n",
    "\n",
    "N=10\n",
    "\n",
    "df_top=df.nlargest(N,['views']).reset_index()"
   ]
  },
  {
   "cell_type": "code",
   "execution_count": 24,
   "id": "62592554",
   "metadata": {},
   "outputs": [
    {
     "data": {
      "image/png": "[encoded data removed]",
      "text/plain": [
       "<Figure size 1080x576 with 1 Axes>"
      ]
     },
     "metadata": {
      "needs_background": "light"
     },
     "output_type": "display_data"
    }
   ],
   "source": [
    "f,a=plt.subplots(1,figsize=(15,8))\n",
    "x=df_top['views']\n",
    "y=df_top['Title']\n",
    "sns.barplot(x=x,y=y)\n",
    "plt.xlabel('Views', fontsize=14)\n",
    "plt.ylabel('Top {} most viewed videos'.format(N),fontsize=14)\n",
    "plt.xticks([])\n",
    "for i in range(0,N):\n",
    "    plt.text(x=x[i]/2,y=range(0,N)[i],s='{}'.format(x[i]),ha='center')\n"
   ]
  },
  {
   "cell_type": "code",
   "execution_count": 25,
   "id": "e996c17b",
   "metadata": {
    "scrolled": false
   },
   "outputs": [
    {
     "data": {
      "image/png": "[encoded data removed]",
      "text/plain": [
       "<Figure size 1080x576 with 1 Axes>"
      ]
     },
     "metadata": {
      "needs_background": "light"
     },
     "output_type": "display_data"
    }
   ],
   "source": [
    "f,a=plt.subplots(1,figsize=(15,8))\n",
    "x=(df_top['like']/(df_top['like']+df_top['dislike'])*100)\n",
    "y=df_top['Title']\n",
    "x2=[100]*N\n",
    "sns.barplot(x=x2,y=y,color='red')\n",
    "sns.barplot(x=x,y=y,color='mediumturquoise')\n",
    "plt.ylabel('')\n",
    "plt.xticks([0,50,100],labels=('0%','50%','100%'))\n",
    "\n",
    "patch1 = mpatches.Patch(color='red', label='Dislikes')\n",
    "patch2 = mpatches.Patch(color='mediumturquoise', label='Likes')\n",
    "plt.legend(handles=[patch2,patch1],loc='lower left')\n",
    "\n",
    "plt.xlabel('Top {} most viewed videos like v/s dislike ratio'.format(N),fontsize=14)\n",
    "for i in range(0,N):\n",
    "    plt.text(x=x2[i]/2,y=range(0,N)[i],s='{:.2f}%'.format(x[i]),ha='center',va='center',color='w',fontsize=12,weight='bold')\n",
    "a.yaxis.tick_right()"
   ]
  },
  {
   "cell_type": "markdown",
   "id": "c216b6e2",
   "metadata": {},
   "source": [
    "### Channel Statistics:"
   ]
  },
  {
   "cell_type": "code",
   "execution_count": 26,
   "id": "90cb545f",
   "metadata": {},
   "outputs": [
    {
     "data": {
      "image/png": "[encoded data removed]",
      "text/plain": [
       "<Figure size 720x360 with 1 Axes>"
      ]
     },
     "metadata": {},
     "output_type": "display_data"
    }
   ],
   "source": [
    "#getting subscriber count\n",
    "res=youtube.channels().list(part='statistics',id=channel_id).execute()\n",
    "sub_count=res['items'][0]['statistics']['subscriberCount']\n",
    "\n",
    "f,a=plt.subplots(1,figsize=(10,5))\n",
    "\n",
    "Channel=plt.Rectangle(xy=(0,0.5),width=0.5,height=0.5,edgecolor='w',linewidth=1,facecolor='crimson')\n",
    "Sub_count=plt.Rectangle(xy=(0.5,0.5),width=0.5,height=0.5,edgecolor='black',linewidth=1,facecolor='black')\n",
    "Total_views=plt.Rectangle(xy=(0,0),width=0.5,height=0.25,edgecolor='black',linewidth=1)\n",
    "Total_comm=plt.Rectangle(xy=(0.5,0),width=0.5,height=0.25,edgecolor='black',linewidth=1)\n",
    "Total_likes=plt.Rectangle(xy=(0,0.25),width=0.5,height=0.25,edgecolor='black',linewidth=1,facecolor='limegreen')\n",
    "Total_dislikes=plt.Rectangle(xy=(0.5,0.25),width=0.5,height=0.25,edgecolor='black',linewidth=1,facecolor='lightcoral')\n",
    "\n",
    "image=imread('vaati.png')\n",
    "imbox=OffsetImage(arr=image,zoom=0.15)\n",
    "logo=AnnotationBbox(offsetbox=imbox,xy=(0.25,0.8))\n",
    "\n",
    "plt.gca().add_artist(Channel)\n",
    "plt.gca().add_artist(Total_likes)\n",
    "plt.gca().add_artist(Total_dislikes)\n",
    "plt.gca().add_artist(Sub_count)\n",
    "plt.gca().add_artist(Total_views)\n",
    "plt.gca().add_artist(Total_comm)\n",
    "plt.gca().add_artist(logo)\n",
    "\n",
    "plt.text(x=0.25,y=0.55,s='VaatiVidya',ha='center',fontsize=17)\n",
    "plt.text(x=0.75,y=0.75,s='Subscribers : {}'.format(sub_count),ha='center',va='center',fontsize=17,color='w')\n",
    "plt.text(x=0.25,y=0.375,s='Total Likes : {}'.format(df['like'].sum()),ha='center',va='center',fontsize=12,color='w')\n",
    "plt.text(x=0.75,y=0.375,s='Total Dislikes : {}'.format(df['dislike'].sum()),ha='center',va='center',fontsize=12,color='w')\n",
    "plt.text(x=0.25,y=0.125,s='Total Views : {}'.format(df['views'].sum()),ha='center',va='center',fontsize=12,color='w')\n",
    "plt.text(x=0.75,y=0.125,s='Total Comments : {}'.format(df['comments'].sum()),ha='center',va='center',fontsize=12,color='w')\n",
    "\n",
    "plt.xticks([])\n",
    "plt.yticks([])\n",
    "plt.show()"
   ]
  }
 ],
 "metadata": {
  "kernelspec": {
   "display_name": "Python 3 (ipykernel)",
   "language": "python",
   "name": "python3"
  },
  "language_info": {
   "codemirror_mode": {
    "name": "ipython",
    "version": 3
   },
   "file_extension": ".py",
   "mimetype": "text/x-python",
   "name": "python",
   "nbconvert_exporter": "python",
   "pygments_lexer": "ipython3",
   "version": "3.8.12"
  }
 },
 "nbformat": 4,
 "nbformat_minor": 5
}
